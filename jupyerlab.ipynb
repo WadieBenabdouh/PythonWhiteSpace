{
 "cells": [
  {
   "cell_type": "markdown",
   "metadata": {},
   "source": [
    "# Adding Whitespace to Strings with Tabs or Newlines"
   ]
  },
  {
   "cell_type": "markdown",
   "metadata": {},
   "source": [
    "_____________________________________________________________"
   ]
  },
  {
   "cell_type": "markdown",
   "metadata": {},
   "source": [
    "## 1 - to add a tab to your text, use the character combination \\t:"
   ]
  },
  {
   "cell_type": "code",
   "execution_count": 3,
   "metadata": {},
   "outputs": [
    {
     "name": "stdout",
     "output_type": "stream",
     "text": [
      "\t Bravo Six\n"
     ]
    }
   ],
   "source": [
    "# Note that I am using the f string technique for better readability.\n",
    "name = \"Bravo Six\"\n",
    "print(f'\\t {name}')"
   ]
  },
  {
   "cell_type": "markdown",
   "metadata": {},
   "source": [
    "_____________________________________________________________"
   ]
  },
  {
   "cell_type": "markdown",
   "metadata": {},
   "source": [
    "## 2 - To add a newline in a string, use the character combination \\n:"
   ]
  },
  {
   "cell_type": "code",
   "execution_count": 7,
   "metadata": {},
   "outputs": [
    {
     "name": "stdout",
     "output_type": "stream",
     "text": [
      "Languages: \n",
      "Python\n",
      "Rust\n",
      "JavaScript\n"
     ]
    }
   ],
   "source": [
    "print(\"Languages: \\nPython\\nRust\\nJavaScript\")"
   ]
  },
  {
   "cell_type": "markdown",
   "metadata": {},
   "source": [
    "We can also combine tabs and newlines. using \\n\\t"
   ]
  },
  {
   "cell_type": "code",
   "execution_count": 8,
   "metadata": {},
   "outputs": [
    {
     "name": "stdout",
     "output_type": "stream",
     "text": [
      "Languages: \n",
      "\tPython\n",
      "\tRust\n",
      "\tJavaScript\n"
     ]
    }
   ],
   "source": [
    "print(\"Languages: \\n\\tPython\\n\\tRust\\n\\tJavaScript\")"
   ]
  },
  {
   "cell_type": "code",
   "execution_count": 10,
   "metadata": {},
   "outputs": [
    {
     "name": "stdout",
     "output_type": "stream",
     "text": [
      "Languages: \n",
      "\t\\n\\tPython\n",
      "\tRust\n",
      "\t\\n\\tJavaScript\n"
     ]
    }
   ],
   "source": [
    "# to disable the inner \\n\\t for Python and JS\n",
    "print(\"Languages: \\n\\t\\\\n\\\\tPython\\n\\tRust\\n\\t\\\\n\\\\tJavaScript\") \n"
   ]
  },
  {
   "cell_type": "markdown",
   "metadata": {},
   "source": [
    "_____________________________________________________________"
   ]
  },
  {
   "cell_type": "markdown",
   "metadata": {},
   "source": [
    "## - 3 Stripping WhiteSpace\n",
    "-  these stripping functions are used most often to clean up\n",
    "user input before it’s stored in a program."
   ]
  },
  {
   "cell_type": "code",
   "execution_count": 12,
   "metadata": {},
   "outputs": [
    {
     "name": "stdout",
     "output_type": "stream",
     "text": [
      "9\n"
     ]
    }
   ],
   "source": [
    "# elimination of extra white space in the RIGHT side .rstip(\n",
    "name = \"Bravo Six   \"\n",
    "name = name.rstrip()\n",
    "print(len(name))"
   ]
  },
  {
   "cell_type": "code",
   "execution_count": 14,
   "metadata": {},
   "outputs": [
    {
     "name": "stdout",
     "output_type": "stream",
     "text": [
      "9\n"
     ]
    }
   ],
   "source": [
    "# elimination of extra white space in the LEFT side .lstip(\n",
    "name = \"    Bravo Six\"\n",
    "name = name.lstrip()\n",
    "print(len(name))"
   ]
  },
  {
   "cell_type": "markdown",
   "metadata": {},
   "source": [
    "_____________________________________________________________"
   ]
  },
  {
   "cell_type": "markdown",
   "metadata": {},
   "source": [
    "## 5 - Removing Prefixes"
   ]
  },
  {
   "cell_type": "code",
   "execution_count": null,
   "metadata": {},
   "outputs": [],
   "source": [
    "website_url = 'https://sss-corp.com'\n",
    "website_url.removeprefix('https://')\n",
    "cleanURL = website_url.removeprefix('https://')\n",
    "print(cleanURL)"
   ]
  },
  {
   "cell_type": "markdown",
   "metadata": {},
   "source": [
    "# THE END - EXAMS :"
   ]
  },
  {
   "cell_type": "code",
   "execution_count": 15,
   "metadata": {},
   "outputs": [
    {
     "name": "stdout",
     "output_type": "stream",
     "text": [
      "sss-corp.com\n",
      "hello Carl Johnson, would you like to bomb Idlewood or chase Ballas fools?\n",
      "CARL JOHNSON\n",
      "carl johnson\n",
      "Albert Einstein once said, \"Gravity is bullshit, make coffee and chase wild boars.\"\n",
      "GTA-SanAndreas\n"
     ]
    }
   ],
   "source": [
    "website_url = 'https://sss-corp.com'\n",
    "website_url.removeprefix('https://')\n",
    "cleanURL = website_url.removeprefix('https://')\n",
    "print(cleanURL)\n",
    "\n",
    "# # EXERCISE 1\n",
    "name = \"Carl Johnson\"\n",
    "print(f\"hello {name}, would you like to bomb Idlewood or chase Ballas fools?\")\n",
    "print(name.upper())\n",
    "print(name.lower())\n",
    "\n",
    "# # EXERCISE 2\n",
    "person = \"Albert Einstein\"\n",
    "person_quote = \"Gravity is bullshit, make coffee and chase wild boars.\"\n",
    "output_message = (f'{person} once said, \"{person_quote}\"')\n",
    "print(output_message)\n",
    "\n",
    "# EXERCISE 3\n",
    "packageName = \">>GTA-SanAndreas.rar\"\n",
    "packageName_clean = packageName.removeprefix('>>').removesuffix('.rar')  #well done self-learned\n",
    "print(packageName_clean)"
   ]
  }
 ],
 "metadata": {
  "kernelspec": {
   "display_name": "Python 3",
   "language": "python",
   "name": "python3"
  },
  "language_info": {
   "codemirror_mode": {
    "name": "ipython",
    "version": 3
   },
   "file_extension": ".py",
   "mimetype": "text/x-python",
   "name": "python",
   "nbconvert_exporter": "python",
   "pygments_lexer": "ipython3",
   "version": "3.12.2"
  }
 },
 "nbformat": 4,
 "nbformat_minor": 2
}
